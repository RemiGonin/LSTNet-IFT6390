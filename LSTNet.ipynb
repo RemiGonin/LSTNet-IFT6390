{
  "nbformat": 4,
  "nbformat_minor": 0,
  "metadata": {
    "colab": {
      "name": "Projet IFT6390.ipynb",
      "provenance": [],
      "collapsed_sections": [],
      "machine_shape": "hm"
    },
    "kernelspec": {
      "name": "python3",
      "display_name": "Python 3"
    },
    "language_info": {
      "name": "python"
    },
    "accelerator": "GPU"
  },
  "cells": [
    {
      "cell_type": "code",
      "source": [
        "#only for generating model card\n",
        "!pip install --upgrade pip==21.3\n",
        "!pip install -U seaborn scikit-learn model-card-toolkit"
      ],
      "metadata": {
        "id": "J4Dn9fsCGQny"
      },
      "execution_count": null,
      "outputs": []
    },
    {
      "cell_type": "code",
      "source": [
        "# import model_card_toolkit as mctlib\n",
        "!pip install datasets \n",
        "import torch\n",
        "from torch import nn\n",
        "import numpy as np\n",
        "from datasets import load_dataset\n",
        "import pandas as pd\n",
        "! pip install -q kaggle\n",
        "import random\n",
        "import matplotlib.pyplot as plt\n",
        "from tqdm import tqdm\n"
      ],
      "metadata": {
        "id": "lp01apvUQ_St"
      },
      "execution_count": null,
      "outputs": []
    },
    {
      "cell_type": "code",
      "source": [
        "#dl data\n",
        "from google.colab import files\n",
        "files.upload()"
      ],
      "metadata": {
        "colab": {
          "resources": {
            "http://localhost:8080/nbextensions/google.colab/files.js": {
              "data": "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",
              "ok": true,
              "headers": [
                [
                  "content-type",
                  "application/javascript"
                ]
              ],
              "status": 200,
              "status_text": ""
            }
          },
          "base_uri": "https://localhost:8080/",
          "height": 90
        },
        "id": "idfZtRnaaGCd",
        "outputId": "2093d04d-342c-4b32-bd44-d876bc09a81b"
      },
      "execution_count": null,
      "outputs": [
        {
          "output_type": "display_data",
          "data": {
            "text/plain": [
              "<IPython.core.display.HTML object>"
            ],
            "text/html": [
              "\n",
              "     <input type=\"file\" id=\"files-38acde63-0c83-4364-81c4-cbc483cfd90a\" name=\"files[]\" multiple disabled\n",
              "        style=\"border:none\" />\n",
              "     <output id=\"result-38acde63-0c83-4364-81c4-cbc483cfd90a\">\n",
              "      Upload widget is only available when the cell has been executed in the\n",
              "      current browser session. Please rerun this cell to enable.\n",
              "      </output>\n",
              "      <script src=\"/nbextensions/google.colab/files.js\"></script> "
            ]
          },
          "metadata": {}
        },
        {
          "output_type": "stream",
          "name": "stdout",
          "text": [
            "Saving kaggle.json to kaggle.json\n"
          ]
        },
        {
          "output_type": "execute_result",
          "data": {
            "text/plain": [
              "{'kaggle.json': b'{\"username\":\"rmigonin\",\"key\":\"3b04aa9357ae39a8d2f337363cda65dc\"}'}"
            ]
          },
          "metadata": {},
          "execution_count": 2
        }
      ]
    },
    {
      "cell_type": "code",
      "source": [
        "! mkdir ~/.kaggle\n",
        "! cp /content/kaggle.json ~/.kaggle/\n",
        "! chmod 600 /root/.kaggle/kaggle.json\n",
        "! chmod 600 /content/kaggle.json\n",
        "! kaggle competitions download -c electricity-time-series-dataset-ml-winter-2022\n",
        "\n",
        "! unzip electricity-time-series-dataset-ml-winter-2022.zip -d /content"
      ],
      "metadata": {
        "id": "YUJLtpj_ahUl"
      },
      "execution_count": null,
      "outputs": []
    },
    {
      "cell_type": "code",
      "source": [
        "#load data\n",
        "\n",
        "#train\n",
        "train_data = pd.read_csv(\"/content/train.csv\")\n",
        "list_train_data = train_data[' \"Sequence\"'].tolist()\n",
        "\n",
        "time_series_train = []\n",
        "for i, row in enumerate(list_train_data):\n",
        "  time_series_train.append(row.split(\" \"))\n",
        "  time_series_train[i] = [float(i) for i in time_series_train[i]]\n",
        "\n",
        "#test\n",
        "test_data = pd.read_csv(\"/content/test.csv\")\n",
        "list_test_data = test_data[\"Sequence\"].tolist()\n",
        "\n",
        "time_series_test = []\n",
        "for i, row in enumerate(list_test_data):\n",
        "  time_series_test.append(row.split(\" \"))\n",
        "  time_series_test[i] = [float(i) for i in time_series_test[i]]\n",
        "\n",
        "#ids\n",
        "list_test_IDs = test_data[\"Id\"].tolist()\n"
      ],
      "metadata": {
        "id": "ehxRR3KYbgZq"
      },
      "execution_count": null,
      "outputs": []
    },
    {
      "cell_type": "markdown",
      "source": [
        "### Création du modèle"
      ],
      "metadata": {
        "id": "tFWqH_7sZw26"
      }
    },
    {
      "cell_type": "code",
      "source": [
        "class LSTNetModel(nn.Module):\n",
        "  def __init__(self, input_lenght, output_lenght, num_users, ar_input_lenght):\n",
        "    super(LSTNetModel, self).__init__() #needed for pytorch, apparently\n",
        "\n",
        "    self.dropout = nn.Dropout(p= 0.2) #all values like this has been found empirically or on the original paper.\n",
        "\n",
        "    #num_users is the number of time series\n",
        "    self.num_conv_filters = 100 #number of filters for convolution\n",
        "    self.num_variables = 1 #number of variables of our data, here 1 (electricty consumption)\n",
        "    self.conv_filter_size = 6 #size of each filter for convolution (width)\n",
        "\n",
        "    self.conv_out = self.num_conv_filters \n",
        "    self.n_user = num_users\n",
        "    self.output_lenght = output_lenght\n",
        "    self.input_lenght = input_lenght\n",
        "    self.ar_input_lenght = ar_input_lenght\n",
        "\n",
        "\n",
        "    #CNN part\n",
        "    self.relu = nn.ReLU()\n",
        "    self.conv1 = nn.Conv2d(1, self.num_conv_filters, kernel_size=(self.num_variables, self.conv_filter_size)) #conv operation in CNN. \\\\ kernel shape = (n_variables, filter_size)\n",
        "\n",
        "    #RNN part\n",
        "    self.hidden_size_GRU = 100 #The number of features in the hidden state h for GRU, from original paper\n",
        "    self.gru1 = nn.GRU(input_size=self.conv_out, hidden_size=self.hidden_size_GRU, batch_first=True) #GRU (gated reccurent unit) in RNN. Torch seem to use tanh, not RELU as in the paper. https://pytorch.org/docs/stable/generated/torch.nn.GRU.html\n",
        "\n",
        "    #Reccurent skip part\n",
        "    self.p = 24 #number of cells skipped, should be set as to have 24h periodicity\n",
        "    self.hidden_size_GRUSkip = 100 #The number of features in the hidden state h for GRU Skip, from original paper\n",
        "\n",
        "    self.gruSkip = nn.GRU(input_size=self.conv_out, hidden_size=self.hidden_size_GRUSkip, batch_first=True) #GRU (gated reccurent unit) in RNNSkip. Torch seem to use tanh, not RELU as in the paper. https://pytorch.org/docs/stable/generated/torch.nn.GRU.html\n",
        "\n",
        "    #Dense layer to combine outputs\n",
        "    # self.output_in_size = self.hidden_size_GRU + self.p * self.hidden_size_GRUSip\n",
        "    self.RNNandRNNSkipLinear_in_size = self.hidden_size_GRU + self.hidden_size_GRUSkip * self.p\n",
        "    self.RNNandRNNSkipLinear_out_size = output_lenght\n",
        "    self.RNNandRNNSkipLinear = nn.Linear(self.RNNandRNNSkipLinear_in_size, self.RNNandRNNSkipLinear_out_size)\n",
        "\n",
        "    #Autoregressive part\n",
        "    self.fullyConnected = nn.Linear(ar_input_lenght, output_lenght)\n",
        "\n",
        "  def forward(self,x):\n",
        "    \n",
        "    # print(\"input shape : \", x.shape)\n",
        "    batch_size = x.size(0)\n",
        "\n",
        "    #padding to ensure that output is just len(input) * dc (number of filters for cnn):\n",
        "    if len(x) % 2 == 0 :\n",
        "      x_padded = torch.nn.functional.pad(x, (self.conv_filter_size - 1,0,0,0), value=0)\n",
        "    else:\n",
        "      x_padded = torch.nn.functional.pad(x, (self.conv_filter_size ,0,0,0), value=0)\n",
        "\n",
        "\n",
        "    # print(\"padded input shape : \", x_padded.shape)\n",
        "\n",
        "    # ====== CNN ======\n",
        "    #conv\n",
        "    x_convoluted = x_padded.unsqueeze(1)\n",
        "    x_convoluted = x_convoluted.unsqueeze(1)\n",
        "    x_convoluted = self.conv1(x_convoluted)\n",
        "    #relu\n",
        "    x_output_CNN = self.relu(x_convoluted)\n",
        "    x_output_CNN = self.dropout(x_output_CNN)\n",
        "    x_output_CNN = x_output_CNN.squeeze(2) #remove height as it's one \n",
        "   \n",
        "    # print(\"CNN output shape : \", x_output_CNN.shape)\n",
        "\n",
        "    x_output_CNN_permuted = torch.permute(x_output_CNN, (0,2,1))\n",
        "    \n",
        "    # ====== RNN ======\n",
        "    x_input_RNN = torch.permute(x_output_CNN, (0,2,1))\n",
        "    # print(\"RNN input shape : \", x_input_RNN.shape)\n",
        "\n",
        "    outputRNN, hidden_states_RNN = self.gru1(x_input_RNN)\n",
        "    outputRNN = outputRNN[:, -1, :]\n",
        "    outputRNN = self.dropout(outputRNN)\n",
        "\n",
        "    # hidden_states_RNN = hidden_states_RNN.squeeze(0) \n",
        "    # outputRNN = outputRNN.squeeze(0) \n",
        "\n",
        "    # print(\"outputRNN \", outputRNN.shape)\n",
        "    # print(\"hidden \", hidden_states_RNN.shape)\n",
        "\n",
        "\n",
        "    # print(\"RNN hidden state shape : \", hidden_states_RNN.shape)\n",
        "    # print(\"RNN outputRNN shape : \", outputRNN.shape)\n",
        "\n",
        "\n",
        "    # ==== Reccurent_skip =====\n",
        "\n",
        "    skip_sequence_len = input_lenght // self.p\n",
        "    x_output_RNNSkip = x_output_CNN[:, :, -skip_sequence_len*self.p:] \n",
        "    x_output_RNNSkip = x_output_RNNSkip.view(x_output_RNNSkip.size(0), x_output_RNNSkip.size(1), skip_sequence_len, self.p)\n",
        "    x_output_RNNSkip = x_output_RNNSkip.permute(0, 3, 2, 1).contiguous() \n",
        "    x_output_RNNSkip = x_output_RNNSkip.view(x_output_RNNSkip.size(0)*x_output_RNNSkip.size(1), x_output_RNNSkip.size(2), x_output_RNNSkip.size(3))  \n",
        "    out, hidden = self.gruSkip(x_output_RNNSkip)\n",
        "    x_output_RNNSkip = out[:, -1, :] \n",
        "\n",
        "    x_output_RNNSkip = x_output_RNNSkip.view(batch_size, self.p*x_output_RNNSkip.size(1))\n",
        "\n",
        "    x_output_RNNSkip = self.dropout(x_output_RNNSkip)\n",
        "    # print(\"output skip \", x_output_RNNSkip.shape)\n",
        "\n",
        "\n",
        "    concat = torch.cat((outputRNN, x_output_RNNSkip), 1)\n",
        "\n",
        "\n",
        "    # print(\"RNNSkip hidden state shape : \", hidden_states_RNNSkip.shape)\n",
        "    # print(\"RNNSkip output shape : \", x_output_RNNSkip.shape)\n",
        "\n",
        "\n",
        "    # ===== Autoregressive part ======\n",
        "    x_input_AR = x[:,-self.ar_input_lenght:]\n",
        "    autoregressive_output = self.fullyConnected(x_input_AR)\n",
        "    # print(\"Autoregressive shape : \", autoregressive_output.shape)\n",
        "\n",
        "    # ===== combining RNN and RNNSkip =====\n",
        "    outputMainNet = self.relu(self.RNNandRNNSkipLinear(concat))\n",
        "    # print(\"Output Main Net shape : \", outputMainNet.shape)\n",
        "\n",
        "\n",
        "\n",
        "    # ===== return sum =====\n",
        "    sum = outputMainNet + autoregressive_output\n",
        "    return sum\n"
      ],
      "metadata": {
        "id": "3Jq5-LxXur_6"
      },
      "execution_count": null,
      "outputs": []
    },
    {
      "cell_type": "markdown",
      "source": [
        "### Création des batch"
      ],
      "metadata": {
        "id": "twD1xNWdZ1-q"
      }
    },
    {
      "cell_type": "code",
      "source": [
        "#creates an ensemble of \"batches\" (not really) at different locations in the time series, with overlap.  Works better that way than creating normal batches.\n",
        "def createAllBatches(data, batch_size, input_lenght, horizon):\n",
        "\n",
        "  \n",
        "  random_start = random.randint(0, horizon)\n",
        "  # random_start = 0\n",
        "  all_batches = []\n",
        "  for start in range(0, len(max(data, key=len)), 5): #change step to control the distance between time series examples\n",
        "    start_perturbed = random_start + start\n",
        "    n_batch_skipped = 0\n",
        "    batch = []\n",
        "    targets = []\n",
        "    index_list = list(range(batch_size))\n",
        "    random.shuffle(index_list)\n",
        "    for i in index_list:\n",
        "      if len(data[i]) < (start_perturbed+input_lenght+horizon):\n",
        "        n_batch_skipped +=1\n",
        "      else:\n",
        "        #input is end-start datapoints\n",
        "        batch.append(data[i][start_perturbed:start_perturbed+input_lenght])\n",
        "        #target is the next h datapoints\n",
        "        targets.append(data[i][start_perturbed+input_lenght:start_perturbed+input_lenght+horizon])\n",
        "    \n",
        "    if n_batch_skipped < batch_size:\n",
        "      all_batches.append((batch, targets))\n",
        "    \n",
        "  return all_batches\n",
        "\n"
      ],
      "metadata": {
        "id": "V1oRI3y0kF-z"
      },
      "execution_count": null,
      "outputs": []
    },
    {
      "cell_type": "markdown",
      "source": [
        "### Initialisation du modèle"
      ],
      "metadata": {
        "id": "Mrsj-3GxZ5Qz"
      }
    },
    {
      "cell_type": "code",
      "source": [
        "#INITIATE VALUES\n",
        "input_lenght = 24*5 + 1\n",
        "ar_input_lenght = 96 \n",
        "\n",
        "# Output lenght / \"predict at a time\". It's a very important parameter. \n",
        "# A value too low means we predict too few values at a time, and errors accumulate. \n",
        "# A bigger value will need more data because the model will predict more at a time and be more complex.\n",
        "h = 24 #Output lenght//paat\n",
        "\n",
        "num_users = len(time_series_train)\n",
        "num_epochs = 10\n",
        "batch_size = 250\n",
        "\n",
        "\n",
        "#INITIATE MODEL AND OPTIMIZER\n",
        "device = torch.device(\"cuda:0\" if torch.cuda.is_available() else \"cpu\")\n",
        "print(device)\n",
        "model = LSTNetModel(input_lenght, h, num_users, ar_input_lenght)\n",
        "model = model.to(device)\n",
        "\n",
        "model_optimizer = torch.optim.Adam(model.parameters(), lr=0.001) #lr is set as in original paper\n",
        "\n",
        "\n",
        "#Loss : MSE Loss. Can implement more complex loss as in article for better results\n",
        "criterion = nn.MSELoss() "
      ],
      "metadata": {
        "id": "gEGjZfVbDrVh",
        "colab": {
          "base_uri": "https://localhost:8080/"
        },
        "outputId": "46ccf5dc-2a81-4910-ab11-562bdeb62cfa"
      },
      "execution_count": null,
      "outputs": [
        {
          "output_type": "stream",
          "name": "stdout",
          "text": [
            "cuda:0\n"
          ]
        }
      ]
    },
    {
      "cell_type": "markdown",
      "source": [
        "### Training"
      ],
      "metadata": {
        "id": "J-WzP7L9Z7XS"
      }
    },
    {
      "cell_type": "code",
      "source": [
        "#TRAINING\n",
        "model.train();\n",
        "time_series_train = np.array(time_series_train)\n",
        "iter_loss = []\n",
        "for j in tqdm(range(num_epochs)):\n",
        "  batch_loss = []\n",
        "  \n",
        "  batches = createAllBatches(time_series_train, batch_size, input_lenght, h) # Input is just the last k data points\n",
        "  for batch in batches: #up this to train on more datapoints\n",
        "    input, targets = batch\n",
        "\n",
        "    input = torch.Tensor(input).cuda()\n",
        "    targets = torch.Tensor(targets).cuda()\n",
        "\n",
        "    prediction = model(input)\n",
        "\n",
        "    # print(\"prediction shape : \", prediction.shape)\n",
        "    loss = criterion(prediction, targets)\n",
        "\n",
        "    # Perform optimization\n",
        "    model_optimizer.zero_grad()\n",
        "    loss.backward()\n",
        "    model_optimizer.step()\n",
        "    batch_loss.append(loss.item())\n",
        "  \n",
        "  # print(\"Epoch :\", j, \" Loss : \", np.mean(batch_loss[-1])) \n",
        "  iter_loss.append(np.mean(batch_loss[-1]))\n"
      ],
      "metadata": {
        "colab": {
          "base_uri": "https://localhost:8080/"
        },
        "id": "pppMwSXMLmoY",
        "outputId": "b53adc24-d0f1-4629-eeb8-8ecbf025430c"
      },
      "execution_count": null,
      "outputs": [
        {
          "output_type": "stream",
          "name": "stderr",
          "text": [
            "100%|██████████| 10/10 [20:19<00:00, 121.91s/it]\n"
          ]
        }
      ]
    },
    {
      "cell_type": "code",
      "source": [
        " # Utility function that will export a plot to a base-64 encoded string that the model card will accept.\n",
        "import uuid\n",
        "import base64\n",
        "from io import BytesIO\n",
        "def plot_to_str():\n",
        "    img = BytesIO()\n",
        "    plt.savefig(img, format='png')\n",
        "    return base64.encodebytes(img.getvalue()).decode('utf-8')\n",
        " \n",
        "plt.xlabel(\"epoch\")\n",
        "plt.ylabel(\"Loss MSE\")\n",
        "plt.title(\"MSE loss during training on train set\")\n",
        "plt.plot(iter_loss)\n",
        "iter_loss_str = plot_to_str()"
      ],
      "metadata": {
        "id": "0ArACxm_Swhc"
      },
      "execution_count": null,
      "outputs": []
    },
    {
      "cell_type": "markdown",
      "source": [
        "### Evaluation et prédictions"
      ],
      "metadata": {
        "id": "PzEK1447Z-Qc"
      }
    },
    {
      "cell_type": "code",
      "source": [
        "import copy\n",
        "time_series_test_copy = copy.deepcopy(time_series_test)"
      ],
      "metadata": {
        "id": "GqeGYPIKHvp2"
      },
      "execution_count": null,
      "outputs": []
    },
    {
      "cell_type": "markdown",
      "source": [
        "We predict the values, until we get a prediction that is 120 long (5 days). If we set h to 24 for example, it will predict 24h with the previous *input_lenght* values, and then add them to the time serie. The next 24h will be predict with the previous 24h predicted and the leftover from the original time serie. Other strategies exist and has been tested, this proved to be the best one for our case."
      ],
      "metadata": {
        "id": "1sxpp0aZPVfv"
      }
    },
    {
      "cell_type": "code",
      "source": [
        "predictions = []\n",
        "\n",
        "model.eval()\n",
        "\n",
        "for time_serie in tqdm(time_series_test_copy):\n",
        "  res = []\n",
        "  t = copy.deepcopy(time_serie)\n",
        "\n",
        "  for period in range(120//h):\n",
        "\n",
        "    input = torch.Tensor(t[-input_lenght:])\n",
        "    input = input.unsqueeze(0).cuda()\n",
        "    with torch.no_grad():\n",
        "      pred = model(input)\n",
        "    pred = pred.squeeze(0).tolist()\n",
        "\n",
        "    res = res + pred\n",
        "    t = t + pred\n",
        "\n",
        "  predictions.append(res)\n",
        "\n",
        "\n",
        "# predictions = []\n",
        "# predict_at_a_time = 24\n",
        "\n",
        "# model.eval()\n",
        "# print(len(time_series_test_copy))\n",
        "# for time_serie in tqdm(time_series_test_copy):\n",
        "#   res = []\n",
        "#   for period in range(120//h):\n",
        "\n",
        "#     t = time_serie\n",
        "    \n",
        "#     input = torch.Tensor(t[-input_lenght:])\n",
        "#     input = input.unsqueeze(0).cuda()\n",
        "#     with torch.no_grad():\n",
        "#       pred = model(input)\n",
        "#     pred = pred.squeeze(0).tolist()\n",
        "\n",
        "#     res = res + pred\n",
        "#   predictions.append(res)"
      ],
      "metadata": {
        "id": "PAi-7MjsmgEN"
      },
      "execution_count": null,
      "outputs": []
    },
    {
      "cell_type": "code",
      "source": [
        "#display a prediction on a test serie, predicting the last 120 values and comparing them with the actual values. For visualisations purpose\n",
        "start = 600\n",
        "time_serie = copy.deepcopy(time_series_test_copy[1115])\n",
        "y_true = copy.deepcopy(time_serie[start:start+120])\n",
        "t = copy.deepcopy(time_serie[start-input_lenght:start])\n",
        "\n",
        "res = []\n",
        "model.eval()\n",
        "for i in range(1,2):\n",
        "\n",
        "  for period in range(120//h):\n",
        "\n",
        "    \n",
        "    input = torch.Tensor(t[-input_lenght:])\n",
        "    input = input.unsqueeze(0).cuda()\n",
        "    with torch.no_grad():\n",
        "      pred = model(input)\n",
        "    pred = pred.squeeze(0).tolist()\n",
        "\n",
        "    res = res + pred\n",
        "    t = t + pred\n",
        "\n",
        "plt.rcParams['figure.figsize'] = [18, 6]\n",
        "plt.plot(y_true, label=\"True\")\n",
        "plt.plot(res, label=\"Predicted\")\n",
        "plt.legend()\n",
        "\n",
        "pred_visu_str = plot_to_str()"
      ],
      "metadata": {
        "colab": {
          "base_uri": "https://localhost:8080/",
          "height": 374
        },
        "id": "Kag3ZRuy9KYD",
        "outputId": "5a78c7e2-0f76-474a-bb05-5593c874c896"
      },
      "execution_count": null,
      "outputs": [
        {
          "output_type": "display_data",
          "data": {
            "text/plain": [
              "<Figure size 1296x432 with 1 Axes>"
            ],
            "image/png": "[encoded data removed]"
          },
          "metadata": {
            "needs_background": "light"
          }
        }
      ]
    },
    {
      "cell_type": "markdown",
      "source": [
        "### Soumissions des résultats sur Kaggle"
      ],
      "metadata": {
        "id": "wbAynG3DaJ4v"
      }
    },
    {
      "cell_type": "code",
      "source": [
        "dic = {\"Id\": list_test_IDs}\n",
        "predictions = np.array(predictions)\n",
        "print(predictions.shape)\n",
        "for i in range(120):\n",
        "  dic[\"Prediction_\"+str(i+1)] = predictions[:,i]\n",
        "\n",
        "df = pd.DataFrame(data=dic)\n",
        "print(df.info())\n",
        "df.to_csv(\"submission.csv\", index=False)"
      ],
      "metadata": {
        "colab": {
          "base_uri": "https://localhost:8080/"
        },
        "id": "FvmnJy25HgeG",
        "outputId": "39bb9019-9e71-42b7-d059-6e8f717e79b4"
      },
      "execution_count": null,
      "outputs": [
        {
          "output_type": "stream",
          "name": "stdout",
          "text": [
            "(3700, 120)\n",
            "<class 'pandas.core.frame.DataFrame'>\n",
            "RangeIndex: 3700 entries, 0 to 3699\n",
            "Columns: 121 entries, Id to Prediction_120\n",
            "dtypes: float64(120), int64(1)\n",
            "memory usage: 3.4 MB\n",
            "None\n"
          ]
        }
      ]
    },
    {
      "cell_type": "code",
      "source": [
        "print(\"ar:\"+str(ar_input_lenght)+\", il:\"+str(input_lenght)+\", bs:\"+str(batch_size)+\", epoch:\"+str(num_epochs)+\", rd:True, paat: \"+str(h) + \" pred:corrected\")"
      ],
      "metadata": {
        "colab": {
          "base_uri": "https://localhost:8080/"
        },
        "id": "u207uZtr6SY2",
        "outputId": "8d49132d-e2db-47a5-cd4b-6dcfcc364a57"
      },
      "execution_count": null,
      "outputs": [
        {
          "output_type": "stream",
          "name": "stdout",
          "text": [
            "ar:96, il:121, bs:250, epoch:10, rd:True, paat: 24 pred:corrected\n"
          ]
        }
      ]
    },
    {
      "cell_type": "code",
      "source": [
        " !kaggle competitions submit -c electricity-time-series-dataset-ml-winter-2022 -f submission.csv -m \"ar:96, il:121, bs:250, epoch:10, rd:True, paat: 24 pred: corrected\""
      ],
      "metadata": {
        "colab": {
          "base_uri": "https://localhost:8080/"
        },
        "id": "B86frkmpAsbv",
        "outputId": "e3af77b3-086b-4a7a-a1ce-54d826e2a039"
      },
      "execution_count": null,
      "outputs": [
        {
          "output_type": "stream",
          "name": "stdout",
          "text": [
            "100% 7.55M/7.55M [00:05<00:00, 1.44MB/s]\n",
            "Successfully submitted to Electricity Time Series dataset - ML Winter 2022"
          ]
        }
      ]
    },
    {
      "cell_type": "markdown",
      "source": [
        "### MODEL CARD"
      ],
      "metadata": {
        "id": "ly0itYSXcx2F"
      }
    },
    {
      "cell_type": "code",
      "source": [
        "from datetime import date\n",
        "\n",
        "\n",
        "#init\n",
        "mct = mctlib.ModelCardToolkit()\n",
        "\n",
        "model_card = mct.scaffold_assets()"
      ],
      "metadata": {
        "id": "xzwkl4ilcyyI"
      },
      "execution_count": null,
      "outputs": []
    },
    {
      "cell_type": "code",
      "source": [
        "# model_card.model_parameters\n",
        "\n",
        "\n",
        "model_card.model_details.name = 'LSTNet implementation for electricity dataset'\n",
        "model_card.model_details.overview = (\n",
        "    \"This model predicts the next 5 days of hourly electricity consumption given a electricity consumption time series input.\" + \"\\n\" + \"\\n It is based on LSTNet, \\\n",
        "    a deep learning framework for univariate and multivariate time series prediction. It uses both a CNN layer and RNN layers, which makes it very interesting to implement to learn those NNs. \\\n",
        "    The goal of LSTNet is to capture both long term trends and short term trends to make accurate predictions, with a relatively long horizon. \"\n",
        "    \"It is trained on the electricity load diagrams dataset. The training set includes the electricity consumption of 250 users from 2011 to 2014, hourly. It is univariate : only one variable is given for every timestep (electrity consumption).\")\n",
        "\n",
        "model_card.model_details.owners = [\n",
        "    mctlib.Owner(name= 'Rémi Gonin', contact=\"remi.gonin@polymtl.ca\"),\n",
        "    mctlib.Owner(name= 'Augustin Barruol', contact=\"augustin.barruol@polymtl.ca\")\n",
        "]\n",
        "model_card.model_details.references = [\n",
        "    mctlib.Reference(reference='https://arxiv.org/abs/1703.07015'),\n",
        "    mctlib.Reference(reference='https://github.com/huggingface/datasets/tree/master/datasets/electricity_load_diagrams')\n",
        "]\n",
        "\n",
        "model_card.model_details.version.date = str(date.today())\n",
        "\n",
        "\n",
        "model_card.considerations.limitations = [mctlib.Limitation(description='Low flexibility due to RNNSkip part : skip-lenght is specific to this task (electricity consumption). It\\'s possible to find one as in the original paper if skip lenght is unclear.'), \n",
        "                                         mctlib.Limitation(description='Outdated method : More performing frameworks than LSTNet are out (Informer, SciNet...)'), \n",
        "                                         mctlib.Limitation(description='Specialization : LSTNet does not specialize in univariate time series prediction, but in both univariate and multivariate. Here, we only predict univariate time series.'),\n",
        "                                         mctlib.Limitation(description='Long training : Our model seems to require a lot of training data and time to perform'),\n",
        "                                         mctlib.Limitation(description='Complexity : A lot of hyperparameters need tuning')\n",
        "                                      \n",
        "                                         \n",
        "                                         ]\n",
        "model_card.considerations.use_cases = [mctlib.UseCase(description='Time series prediction for more intelligent production and distribution of energy')]\n",
        "\n",
        "\n",
        "model_card.model_parameters.data.append(mctlib.Dataset())\n",
        "# model_card.model_parameters.data[0].graphics.description = (\n",
        "#   f'test')\n",
        "model_card.model_parameters.data[0].graphics.collection = [\n",
        "    mctlib.Graphic(name= 'test', image=pred_visu_str)\n",
        "]\n",
        "\n",
        "# model_card.model_parameters.data.append(mctlib.Dataset())\n",
        "# model_card.model_parameters.data[1].graphics.description = (\n",
        "#   \"aaa\")\n",
        "# model_card.model_parameters.data[1].graphics.collection = [\n",
        "#     mctlib.Graphic(image=iter_loss_str)\n",
        "# ]\n",
        "\n",
        "# model_card.quantitative_analysis.graphics.description = (\n",
        "#   'ROC curve and confusion matrix')\n",
        "# model_card.quantitative_analysis.graphics.collection = [\n",
        "#     mctlib.Graphic(image=iter_loss_str),\n",
        "#     mctlib.Graphic(image=iter_loss_str)\n",
        "# ]\n",
        "\n",
        "\n",
        "mct.update_model_card(model_card)"
      ],
      "metadata": {
        "id": "z1fJPZyzc0mB"
      },
      "execution_count": null,
      "outputs": []
    },
    {
      "cell_type": "code",
      "source": [
        "# Return the model card document as an HTML page\n",
        "from IPython import display\n",
        "\n",
        "html = mct.export_format()\n",
        "\n",
        "display.display(display.HTML(html))"
      ],
      "metadata": {
        "id": "SLUvq9ezc39-"
      },
      "execution_count": null,
      "outputs": []
    }
  ]
}